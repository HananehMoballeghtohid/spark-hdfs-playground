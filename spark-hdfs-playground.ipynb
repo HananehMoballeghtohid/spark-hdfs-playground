{
 "cells": [
  {
   "cell_type": "markdown",
   "id": "ac29552c",
   "metadata": {},
   "source": [
    "## Spark"
   ]
  },
  {
   "cell_type": "code",
   "execution_count": null,
   "id": "b63deff8",
   "metadata": {
    "tags": []
   },
   "outputs": [],
   "source": [
    "## TODO: Set spark up with required configurations"
   ]
  },
  {
   "cell_type": "markdown",
   "id": "44102be3-a3b0-4747-a657-74ac449a72e7",
   "metadata": {},
   "source": [
    "## Load Data"
   ]
  },
  {
   "cell_type": "code",
   "execution_count": 5,
   "id": "272bf0fc-015c-4a33-937d-1c2970ba1b5e",
   "metadata": {
    "tags": []
   },
   "outputs": [
    {
     "name": "stderr",
     "output_type": "stream",
     "text": [
      "                                                                                \r"
     ]
    }
   ],
   "source": [
    "yellow_tripdata_df = spark.read.parquet('/home/hananeh/yellow_trip_data_parquet')\n",
    "taxi_zone_lookup_df = spark.read.csv('/home/hananeh/taxi_zone_lookup.csv', header=True)"
   ]
  },
  {
   "cell_type": "code",
   "execution_count": 6,
   "id": "29ff794c-8524-4a8c-94b1-090e8d2f89be",
   "metadata": {
    "tags": []
   },
   "outputs": [
    {
     "name": "stdout",
     "output_type": "stream",
     "text": [
      "root\n",
      " |-- VendorID: integer (nullable = true)\n",
      " |-- tpep_pickup_datetime: timestamp_ntz (nullable = true)\n",
      " |-- tpep_dropoff_datetime: timestamp_ntz (nullable = true)\n",
      " |-- passenger_count: long (nullable = true)\n",
      " |-- trip_distance: double (nullable = true)\n",
      " |-- RatecodeID: long (nullable = true)\n",
      " |-- store_and_fwd_flag: string (nullable = true)\n",
      " |-- PULocationID: integer (nullable = true)\n",
      " |-- DOLocationID: integer (nullable = true)\n",
      " |-- payment_type: long (nullable = true)\n",
      " |-- fare_amount: double (nullable = true)\n",
      " |-- extra: double (nullable = true)\n",
      " |-- mta_tax: double (nullable = true)\n",
      " |-- tip_amount: double (nullable = true)\n",
      " |-- tolls_amount: double (nullable = true)\n",
      " |-- improvement_surcharge: double (nullable = true)\n",
      " |-- total_amount: double (nullable = true)\n",
      " |-- congestion_surcharge: double (nullable = true)\n",
      " |-- Airport_fee: double (nullable = true)\n",
      "\n"
     ]
    }
   ],
   "source": [
    "yellow_tripdata_df.printSchema()"
   ]
  },
  {
   "cell_type": "code",
   "execution_count": 7,
   "id": "add57682-dc26-4e55-9f0b-bf9d217d660b",
   "metadata": {
    "tags": []
   },
   "outputs": [
    {
     "name": "stdout",
     "output_type": "stream",
     "text": [
      "root\n",
      " |-- LocationID: string (nullable = true)\n",
      " |-- Borough: string (nullable = true)\n",
      " |-- Zone: string (nullable = true)\n",
      " |-- service_zone: string (nullable = true)\n",
      "\n"
     ]
    }
   ],
   "source": [
    "taxi_zone_lookup_df.printSchema()"
   ]
  },
  {
   "cell_type": "markdown",
   "id": "d69ae30b-00c6-47c0-8eec-ac1cac637dbc",
   "metadata": {},
   "source": [
    "## Analysis"
   ]
  },
  {
   "cell_type": "markdown",
   "id": "a83a53e6-edf1-4a64-b6b0-a2f05d03d9cd",
   "metadata": {},
   "source": [
    "### Analysis 1"
   ]
  },
  {
   "cell_type": "code",
   "execution_count": 8,
   "id": "21b7e0e2-bfbd-4511-a9f6-611fd911fbc5",
   "metadata": {
    "tags": []
   },
   "outputs": [
    {
     "name": "stderr",
     "output_type": "stream",
     "text": [
      "[Stage 2:========================================>                 (7 + 3) / 10]\r"
     ]
    },
    {
     "name": "stdout",
     "output_type": "stream",
     "text": [
      "+--------+--------------------+---------------------+---------------+-------------+----------+------------------+------------+------------+------------+-----------+-----+-------+----------+------------+---------------------+------------+--------------------+-----------+------------------+\n",
      "|VendorID|tpep_pickup_datetime|tpep_dropoff_datetime|passenger_count|trip_distance|RatecodeID|store_and_fwd_flag|PULocationID|DOLocationID|payment_type|fare_amount|extra|mta_tax|tip_amount|tolls_amount|improvement_surcharge|total_amount|congestion_surcharge|Airport_fee|  duration_minutes|\n",
      "+--------+--------------------+---------------------+---------------+-------------+----------+------------------+------------+------------+------------+-----------+-----+-------+----------+------------+---------------------+------------+--------------------+-----------+------------------+\n",
      "|       2| 2024-09-26 16:40:25|  2024-09-27 16:39:30|              5|         9.98|         1|                 N|         138|         189|           1|       54.1|  7.5|    0.5|     12.97|         0.0|                  1.0|       77.82|                 0.0|       1.75|1439.0833333333333|\n",
      "|       2| 2024-09-10 16:07:51|  2024-09-11 16:06:46|              5|        18.94|         2|                 N|         132|          93|           1|       70.0|  5.0|    0.5|     17.54|        6.94|                  1.0|      105.23|                 2.5|       1.75|1438.9166666666667|\n",
      "|       2| 2024-09-21 20:38:49|  2024-09-22 20:37:38|              5|         5.49|         1|                 N|         114|         140|           1|       33.8|  1.0|    0.5|       0.0|         0.0|                  1.0|        38.8|                 2.5|        0.0|1438.8166666666666|\n",
      "|       2| 2024-09-20 14:57:32|  2024-09-21 14:55:28|              6|         7.94|         1|                 N|         170|         181|           1|       42.9|  0.0|    0.5|      9.38|         0.0|                  1.0|       56.28|                 2.5|        0.0|1437.9333333333334|\n",
      "|       2| 2024-09-09 15:59:21|  2024-09-10 15:57:14|              5|        19.28|         1|                 N|         132|         133|           1|       80.0|  2.5|    0.5|     17.15|         0.0|                  1.0|       102.9|                 0.0|       1.75|1437.8833333333334|\n",
      "+--------+--------------------+---------------------+---------------+-------------+----------+------------------+------------+------------+------------+-----------+-----+-------+----------+------------+---------------------+------------+--------------------+-----------+------------------+\n",
      "only showing top 5 rows\n",
      "\n"
     ]
    },
    {
     "name": "stderr",
     "output_type": "stream",
     "text": [
      "                                                                                \r"
     ]
    }
   ],
   "source": [
    "analysis_1_result = (\n",
    "    yellow_tripdata_df\n",
    "    .filter((F.col('passenger_count') > 2) & (F.col('trip_distance') > 5))\n",
    "    .withColumn('duration_minutes', \n",
    "                ((F.unix_timestamp(F.col('tpep_dropoff_datetime')) - \n",
    "                  (F.unix_timestamp(F.col('tpep_pickup_datetime')))) / 60))\n",
    "    .orderBy(F.desc('duration_minutes'))    \n",
    ")\n",
    "\n",
    "analysis_1_result.show(5)"
   ]
  },
  {
   "cell_type": "code",
   "execution_count": 9,
   "id": "4e6f69de-c19b-4c63-8886-572d03aba10c",
   "metadata": {
    "tags": []
   },
   "outputs": [
    {
     "name": "stderr",
     "output_type": "stream",
     "text": [
      "                                                                                \r"
     ]
    }
   ],
   "source": [
    "analysis_1_result.write.parquet('/home/hananeh/test_files/q1_long_trips_df.parquet')"
   ]
  },
  {
   "cell_type": "markdown",
   "id": "8ed872da-7681-4562-b8de-debedaa8451b",
   "metadata": {},
   "source": [
    "### Analysis 2"
   ]
  },
  {
   "cell_type": "code",
   "execution_count": 10,
   "id": "64de5907-50d7-4b24-aa9d-d138041d6746",
   "metadata": {
    "tags": []
   },
   "outputs": [
    {
     "name": "stdout",
     "output_type": "stream",
     "text": [
      "+--------------------+---------+------------------+\n",
      "|                Zone|  Borough|  mean_fare_amount|\n",
      "+--------------------+---------+------------------+\n",
      "|        East Village|Manhattan|15.638300306124805|\n",
      "|          Whitestone|   Queens|37.414482758620686|\n",
      "|Long Island City/...|   Queens| 21.91831953239162|\n",
      "|   Battery Park City|Manhattan| 23.20857142857146|\n",
      "|                SoHo|Manhattan| 17.02121989653328|\n",
      "|         Old Astoria|   Queens|  23.5892962962963|\n",
      "|       South Jamaica|   Queens| 46.78904255319148|\n",
      "|          Mount Hope|    Bronx| 29.53035928143713|\n",
      "|             Bayside|   Queens| 36.06983050847458|\n",
      "|        West Village|Manhattan|15.426540600410743|\n",
      "|Upper East Side S...|Manhattan|13.470830136177682|\n",
      "|        Saint Albans|   Queens|38.497886710239655|\n",
      "|     Manhattan Beach| Brooklyn| 34.14525179856115|\n",
      "| Ocean Parkway South| Brooklyn|28.033185840707972|\n",
      "|          Ozone Park|   Queens| 35.62231111111112|\n",
      "|          Douglaston|   Queens| 28.83829268292683|\n",
      "|             Madison| Brooklyn|30.301799999999997|\n",
      "|Schuylerville/Edg...|    Bronx| 36.15587378640775|\n",
      "|Riverdale/North R...|    Bronx|  36.3378947368421|\n",
      "|      Middle Village|   Queens| 29.74390845070422|\n",
      "+--------------------+---------+------------------+\n",
      "only showing top 20 rows\n",
      "\n"
     ]
    }
   ],
   "source": [
    "analysis_2_result = (\n",
    "    yellow_tripdata_df\n",
    "    .join(\n",
    "        taxi_zone_lookup_df,\n",
    "        on=(yellow_tripdata_df.PULocationID == taxi_zone_lookup_df.LocationID),\n",
    "        how='left'\n",
    "    )\n",
    "    .groupBy('Zone', 'Borough') # This is fine since each Zone has only one Borough\n",
    "    .agg(\n",
    "        F.mean('fare_amount').alias('mean_fare_amount')\n",
    "    )\n",
    "    .select(\n",
    "        'Zone',\n",
    "        'Borough',\n",
    "        'mean_fare_amount',\n",
    "    )\n",
    ")\n",
    "\n",
    "analysis_2_result.show()"
   ]
  },
  {
   "cell_type": "code",
   "execution_count": 11,
   "id": "d126f9fe-fef1-4194-bff3-851fe56379e7",
   "metadata": {
    "tags": []
   },
   "outputs": [],
   "source": [
    "analysis_2_result.write.parquet('/home/hananeh/test_files/q2_avg_fare_by_zone.parquet')"
   ]
  },
  {
   "cell_type": "markdown",
   "id": "20f6a102-d9c8-4b59-b0ed-3f242fc9bab7",
   "metadata": {},
   "source": [
    "### Analysis 3"
   ]
  },
  {
   "cell_type": "code",
   "execution_count": 12,
   "id": "fd266923-3e2d-4fb5-88a8-b055c978b83a",
   "metadata": {
    "tags": []
   },
   "outputs": [
    {
     "name": "stdout",
     "output_type": "stream",
     "text": [
      "+-------------+--------------------+----------+\n",
      "|      Borough|    sum_total_amount|trip_count|\n",
      "+-------------+--------------------+----------+\n",
      "|       Queens|1.0154144669998907E7|    193970|\n",
      "|          EWR|  1205927.7000000032|      9614|\n",
      "|      Unknown|  367945.76000000094|     13081|\n",
      "|     Brooklyn|   7577216.649999933|    161182|\n",
      "|Staten Island|   97063.12000000001|       967|\n",
      "|          N/A|  2040392.8199999984|     17481|\n",
      "|    Manhattan| 8.111937221006177E7|   3213990|\n",
      "|        Bronx|   1121335.930000009|     22745|\n",
      "+-------------+--------------------+----------+\n",
      "\n"
     ]
    }
   ],
   "source": [
    "analysis_3_result = (\n",
    "    yellow_tripdata_df\n",
    "    .join(\n",
    "        taxi_zone_lookup_df,\n",
    "        on=(yellow_tripdata_df.DOLocationID == taxi_zone_lookup_df.LocationID),\n",
    "        how='left'\n",
    "    )\n",
    "    .groupBy('Borough')\n",
    "    .agg(\n",
    "        F.sum('total_amount').alias('sum_total_amount'),\n",
    "        F.count('*').alias('trip_count')\n",
    "    )\n",
    "    .select(\n",
    "        'Borough',\n",
    "        'sum_total_amount',\n",
    "        'trip_count'\n",
    "    )\n",
    ")\n",
    "\n",
    "analysis_3_result.show()"
   ]
  },
  {
   "cell_type": "code",
   "execution_count": 13,
   "id": "57ca63a3-52b1-4d98-a6c7-b30b39d9d2f2",
   "metadata": {
    "tags": []
   },
   "outputs": [],
   "source": [
    "analysis_3_result.write.parquet('/home/hananeh/test_files/q3_revenue_by_borough.parquet')"
   ]
  },
  {
   "cell_type": "markdown",
   "id": "f8c12315-fc0a-4c73-9cae-0e9a8611bda8",
   "metadata": {},
   "source": [
    "### Analysis 4"
   ]
  },
  {
   "cell_type": "code",
   "execution_count": 14,
   "id": "ceba3cee-04a9-492b-badf-11dcf5647c94",
   "metadata": {
    "tags": []
   },
   "outputs": [
    {
     "name": "stdout",
     "output_type": "stream",
     "text": [
      "+----------+--------------+\n",
      "|      date|max_tip_amount|\n",
      "+----------+--------------+\n",
      "|2009-01-01|         17.54|\n",
      "|2024-09-10|         384.4|\n",
      "|2024-09-03|         200.0|\n",
      "|2024-09-12|         140.0|\n",
      "|2024-09-01|         100.0|\n",
      "|2024-09-08|         100.0|\n",
      "|2024-09-02|         99.99|\n",
      "|2024-09-07|         100.0|\n",
      "|2024-09-06|         150.0|\n",
      "|2024-09-09|          99.0|\n",
      "|2024-08-31|           7.9|\n",
      "|2024-09-05|        101.24|\n",
      "|2024-09-11|         500.0|\n",
      "|2024-09-16|         145.0|\n",
      "|2024-09-04|         125.0|\n",
      "|2024-09-18|         99.99|\n",
      "|2024-09-22|         410.0|\n",
      "|2024-09-21|        112.34|\n",
      "|2024-09-19|         200.0|\n",
      "|2024-09-20|         175.0|\n",
      "+----------+--------------+\n",
      "only showing top 20 rows\n",
      "\n"
     ]
    }
   ],
   "source": [
    "analysis_4_result = (\n",
    "    yellow_tripdata_df\n",
    "    .withColumn('date', F.to_date(F.col('tpep_dropoff_datetime')))\n",
    "    .groupBy('date')\n",
    "    .agg(\n",
    "        F.max('tip_amount').alias('max_tip_amount')\n",
    "    )\n",
    "    .select(\n",
    "        'date',\n",
    "        'max_tip_amount',\n",
    "    )\n",
    ")\n",
    "\n",
    "analysis_4_result.show()"
   ]
  },
  {
   "cell_type": "code",
   "execution_count": 15,
   "id": "ad0cee52-cdae-40ac-bb7d-d15b0e23a252",
   "metadata": {
    "tags": []
   },
   "outputs": [],
   "source": [
    "analysis_4_result.write.parquet('/home/hananeh/test_files/q4_max_tip_per_day.parquet')"
   ]
  }
 ],
 "metadata": {
  "celltoolbar": "Edit Metadata",
  "kernelspec": {
   "display_name": "Python 3 (ipykernel)",
   "language": "python",
   "name": "python3"
  },
  "language_info": {
   "codemirror_mode": {
    "name": "ipython",
    "version": 3
   },
   "file_extension": ".py",
   "mimetype": "text/x-python",
   "name": "python",
   "nbconvert_exporter": "python",
   "pygments_lexer": "ipython3",
   "version": "3.9.13"
  },
  "toc": {
   "base_numbering": 1,
   "nav_menu": {
    "height": "176.753px",
    "width": "208.75px"
   },
   "number_sections": true,
   "sideBar": false,
   "skip_h1_title": false,
   "title_cell": "Table of Contents",
   "title_sidebar": "Contents",
   "toc_cell": true,
   "toc_position": {
    "height": "47.9167px",
    "left": "104.986px",
    "top": "154.441px",
    "width": "159.115px"
   },
   "toc_section_display": false,
   "toc_window_display": false
  }
 },
 "nbformat": 4,
 "nbformat_minor": 5
}
